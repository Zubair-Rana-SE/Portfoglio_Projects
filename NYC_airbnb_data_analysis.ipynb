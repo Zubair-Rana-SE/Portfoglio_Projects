{
 "cells": [
  {
   "cell_type": "code",
   "execution_count": 4,
   "id": "30615578",
   "metadata": {},
   "outputs": [],
   "source": [
    "# Welcome to New York City (NYC), one of the most-visited cities in the world.We will be doing analysis with three datasets\n",
    "\n",
    "#  1 :  \"airbnb_price.csv\"\n",
    "#  2 :  \"airbnb_room_type.xlsx\"\n",
    "#  3 :  \"airbnb_last_review.tsv\"    \n",
    "    \n",
    "# And we will answering these questions\n",
    "\n",
    "#  > What is the average price, per night, of an Airbnb listing in NYC?\n",
    "#  > How does the average price of an Airbnb listing, per month, compare to the private rental market?\n",
    "#  > How many adverts are for private rooms?\n",
    "#  > How do Airbnb listing prices compare across the five NYC boroughs?"
   ]
  },
  {
   "cell_type": "code",
   "execution_count": 7,
   "id": "73152e7f",
   "metadata": {},
   "outputs": [
    {
     "name": "stdout",
     "output_type": "stream",
     "text": [
      "   listing_id        price                nbhood_full\n",
      "0        2595  225 dollars         Manhattan, Midtown\n",
      "1        3831   89 dollars     Brooklyn, Clinton Hill\n",
      "2        5099  200 dollars     Manhattan, Murray Hill\n",
      "3        5178   79 dollars  Manhattan, Hell's Kitchen\n",
      "4        5238  150 dollars       Manhattan, Chinatown \n",
      "    listing_id                                description        room_type\n",
      "0        2595                      Skylit Midtown Castle  Entire home/apt\n",
      "1        3831            Cozy Entire Floor of Brownstone  Entire home/apt\n",
      "2        5099  Large Cozy 1 BR Apartment In Midtown East  Entire home/apt\n",
      "3        5178            Large Furnished Room Near B'way     private room\n",
      "4        5238         Cute & Cozy Lower East Side 1 bdrm  Entire home/apt \n",
      "    listing_id    host_name   last_review\n",
      "0        2595     Jennifer   May 21 2019\n",
      "1        3831  LisaRoxanne  July 05 2019\n",
      "2        5099        Chris  June 22 2019\n",
      "3        5178     Shunichi  June 24 2019\n",
      "4        5238          Ben  June 09 2019\n"
     ]
    }
   ],
   "source": [
    "#Lets import libraries\n",
    "import pandas as pd\n",
    "import numpy as np\n",
    "import datetime as dt\n",
    "\n",
    "# Load airbnb_price.csv, prices\n",
    "prices = pd.read_csv(\"data/airbnb_price.csv\")\n",
    "\n",
    "# Load airbnb_room_type.xlsx, xls\n",
    "xls = pd.ExcelFile(\"data/airbnb_room_type.xlsx\")\n",
    "\n",
    "# Parse the first sheet from xls, room_types\n",
    "room_types = xls.parse(sheet_name=0)\n",
    "\n",
    "# Load airbnb_last_review.tsv, reviews\n",
    "reviews = pd.read_csv(\"data/airbnb_last_review.tsv\",sep=\"\\t\")\n",
    "\n",
    "# Print the first five rows of each DataFrame\n",
    "print(prices.head(), \"\\n\", room_types.head(), \"\\n\", reviews.head())"
   ]
  },
  {
   "cell_type": "code",
   "execution_count": 8,
   "id": "b75d4eb1",
   "metadata": {},
   "outputs": [
    {
     "name": "stdout",
     "output_type": "stream",
     "text": [
      "count    25209.000000\n",
      "mean       141.777936\n",
      "std        147.349137\n",
      "min          0.000000\n",
      "25%         69.000000\n",
      "50%        105.000000\n",
      "75%        175.000000\n",
      "max       7500.000000\n",
      "Name: price, dtype: float64\n"
     ]
    }
   ],
   "source": [
    "#Cleaning the price column\n",
    "\n",
    "# Remove whitespace and string characters from prices column\n",
    "prices[\"price\"] = prices[\"price\"].str.replace(\" dollars\",\"\")\n",
    "\n",
    "# Convert prices column to numeric datatype\n",
    "prices[\"price\"] = pd.to_numeric(prices[\"price\"])\n",
    "\n",
    "# Print descriptive statistics for the price column\n",
    "print(prices[\"price\"].describe())"
   ]
  },
  {
   "cell_type": "code",
   "execution_count": 9,
   "id": "09ac68fe",
   "metadata": {},
   "outputs": [
    {
     "name": "stdout",
     "output_type": "stream",
     "text": [
      "The average price per night for an Airbnb listing in NYC is $141.82.\n"
     ]
    }
   ],
   "source": [
    "#Calculating average price after removing free listings\n",
    "\n",
    "free_listings = prices[\"price\"]==0\n",
    "\n",
    "# Update prices by removing all free listings from prices\n",
    "prices = prices.loc[~free_listings]\n",
    "\n",
    "# Calculate the average price, avg_price\n",
    "avg_price = round(prices[\"price\"].mean(),2)\n",
    "\n",
    "# Print the average price\n",
    "print(\"The average price per night for an Airbnb listing in NYC is ${}.\".format(avg_price))"
   ]
  },
  {
   "cell_type": "code",
   "execution_count": 23,
   "id": "97dfbbd5",
   "metadata": {},
   "outputs": [
    {
     "name": "stdout",
     "output_type": "stream",
     "text": [
      "airbnb monthly costs are $4313.61, while in the private market you would pay $3,100.00.\n"
     ]
    }
   ],
   "source": [
    "# Comparing costs to the private rental market\n",
    "\n",
    "# Add a new column to the prices DataFrame, price_per_month\n",
    "prices[\"price_per_month\"] = prices[\"price\"] * 365 / 12\n",
    "\n",
    "# Calculate average_price_per_month\n",
    "average_price_per_month = round(prices[\"price_per_month\"].mean(), 2)\n",
    "\n",
    "# Compare Airbnb and rental market\n",
    "print(\"airbnb monthly costs are ${}, while in the private market you would pay {}.\".format(average_price_per_month, \"$3,100.00\"))"
   ]
  },
  {
   "cell_type": "code",
   "execution_count": 24,
   "id": "1f90c0d6",
   "metadata": {},
   "outputs": [
    {
     "name": "stdout",
     "output_type": "stream",
     "text": [
      "entire home/apt    13266\n",
      "private room       11356\n",
      "shared room          587\n",
      "Name: room_type, dtype: int64\n"
     ]
    }
   ],
   "source": [
    "# Cleaning the room type column\n",
    "\n",
    "# Convert the room_type column to lowercase\n",
    "room_types[\"room_type\"] = room_types[\"room_type\"].str.lower()\n",
    "\n",
    "# Update the room_type column to category data type\n",
    "room_types[\"room_type\"] = room_types[\"room_type\"].astype(\"category\")\n",
    "\n",
    "# Create the variable room_frequencies\n",
    "room_frequencies = room_types[\"room_type\"].value_counts()\n",
    "\n",
    "# Print room_frequencies\n",
    "print(room_frequencies)"
   ]
  },
  {
   "cell_type": "code",
   "execution_count": 25,
   "id": "d8dab56b",
   "metadata": {},
   "outputs": [
    {
     "name": "stdout",
     "output_type": "stream",
     "text": [
      "The latest Airbnb review is 2019-07-09, the earliest review is 2019-01-01\n"
     ]
    }
   ],
   "source": [
    "#Lets explore reviews now\n",
    "\n",
    "# Change the data type of the last_review column to datetime\n",
    "reviews[\"last_review\"] = pd.to_datetime(reviews[\"last_review\"])\n",
    "\n",
    "# Create first_reviewed, the earliest review date\n",
    "first_reviewed = reviews[\"last_review\"].dt.date.min()\n",
    "\n",
    "# Create last_reviewed, the most recent review date\n",
    "last_reviewed = reviews[\"last_review\"].dt.date.max()\n",
    "\n",
    "# Print the oldest and newest reviews from the DataFrame\n",
    "print(\"The latest Airbnb review is {}, the earliest review is {}\".format(last_reviewed, first_reviewed))"
   ]
  },
  {
   "cell_type": "code",
   "execution_count": 27,
   "id": "cb636351",
   "metadata": {},
   "outputs": [
    {
     "name": "stdout",
     "output_type": "stream",
     "text": [
      "   listing_id  price                 nbhood_full  price_per_month  \\\n",
      "0        2595  225.0          Manhattan, Midtown      6843.750000   \n",
      "1        3831   89.0      Brooklyn, Clinton Hill      2707.083333   \n",
      "2        5099  200.0      Manhattan, Murray Hill      6083.333333   \n",
      "3        5178   79.0   Manhattan, Hell's Kitchen      2402.916667   \n",
      "4        5238  150.0        Manhattan, Chinatown      4562.500000   \n",
      "5        5295  135.0  Manhattan, Upper West Side      4106.250000   \n",
      "6        5441   85.0   Manhattan, Hell's Kitchen      2585.416667   \n",
      "7        5803   89.0       Brooklyn, South Slope      2707.083333   \n",
      "8        6021   85.0  Manhattan, Upper West Side      2585.416667   \n",
      "9        6848  140.0      Brooklyn, Williamsburg      4258.333333   \n",
      "\n",
      "                                        description        room_type  \\\n",
      "0                             Skylit Midtown Castle  entire home/apt   \n",
      "1                   Cozy Entire Floor of Brownstone  entire home/apt   \n",
      "2         Large Cozy 1 BR Apartment In Midtown East  entire home/apt   \n",
      "3                   Large Furnished Room Near B'way     private room   \n",
      "4                Cute & Cozy Lower East Side 1 bdrm  entire home/apt   \n",
      "5                  Beautiful 1br on Upper West Side  entire home/apt   \n",
      "6                   Central Manhattan/near Broadway     private room   \n",
      "7    Lovely Room 1, Garden, Best Area, Legal rental     private room   \n",
      "8  Wonderful Guest Bedroom in Manhattan for SINGLES     private room   \n",
      "9                  Only 2 stops to Manhattan studio  entire home/apt   \n",
      "\n",
      "       host_name last_review  \n",
      "0       Jennifer  2019-05-21  \n",
      "1    LisaRoxanne  2019-07-05  \n",
      "2          Chris  2019-06-22  \n",
      "3       Shunichi  2019-06-24  \n",
      "4            Ben  2019-06-09  \n",
      "5           Lena  2019-06-22  \n",
      "6           Kate  2019-06-23  \n",
      "7         Laurie  2019-06-24  \n",
      "8        Claudio  2019-07-05  \n",
      "9  Allen & Irina  2019-06-29  \n",
      "There are 0 duplicates in the DataFrame.\n"
     ]
    }
   ],
   "source": [
    "# Joining the DataFrames\n",
    "\n",
    "# Merge prices and room_types to create rooms_and_prices\n",
    "rooms_and_prices = prices.merge(room_types, how=\"outer\", on=\"listing_id\")\n",
    "\n",
    "# Merge rooms_and_prices with the reviews DataFrame to create airbnb_merged\n",
    "airbnb_merged = rooms_and_prices.merge(reviews,how=\"outer\",on=\"listing_id\")\n",
    "\n",
    "# Drop missing values from airbnb_merged\n",
    "airbnb_merged.dropna(inplace=True)\n",
    "print(airbnb_merged.head(10))\n",
    "\n",
    "# Check if there are any duplicate values\n",
    "print(\"There are {} duplicates in the DataFrame.\".format(airbnb_merged.duplicated().sum()))"
   ]
  },
  {
   "cell_type": "code",
   "execution_count": 28,
   "id": "972a44c7",
   "metadata": {},
   "outputs": [
    {
     "name": "stdout",
     "output_type": "stream",
     "text": [
      "                     sum    mean  median  count\n",
      "borough                                        \n",
      "Manhattan      1898417.0  184.04   149.0  10315\n",
      "Brooklyn       1275250.0  122.02    95.0  10451\n",
      "Queens          320715.0   92.83    70.0   3455\n",
      "Staten Island    22974.0   86.04    71.0    267\n",
      "Bronx            55156.0   79.25    65.0    696\n"
     ]
    }
   ],
   "source": [
    "# Analyzing listing prices by NYC borough\n",
    "\n",
    "# Extract information from the nbhood_full column and store as a new column, borough\n",
    "airbnb_merged[\"borough\"] = airbnb_merged[\"nbhood_full\"].str.partition(\",\")[0]\n",
    "\n",
    "# Group by borough and calculate summary statistics\n",
    "boroughs = airbnb_merged.groupby(\"borough\")[\"price\"].agg([\"sum\", \"mean\", \"median\", \"count\"])\n",
    "\n",
    "# Round boroughs to 2 decimal places, and sort by mean in descending order\n",
    "boroughs = boroughs.round(2).sort_values(\"mean\", ascending=False)\n",
    "\n",
    "# Print boroughs\n",
    "print(boroughs)"
   ]
  },
  {
   "cell_type": "code",
   "execution_count": 29,
   "id": "cd076e9f",
   "metadata": {},
   "outputs": [
    {
     "name": "stdout",
     "output_type": "stream",
     "text": [
      "                     sum    mean  median  count\n",
      "borough                                        \n",
      "Manhattan      1898417.0  184.04   149.0  10315\n",
      "Brooklyn       1275250.0  122.02    95.0  10451\n",
      "Queens          320715.0   92.83    70.0   3455\n",
      "Staten Island    22974.0   86.04    71.0    267\n",
      "Bronx            55156.0   79.25    65.0    696\n"
     ]
    }
   ],
   "source": [
    "# # Extract information from the nbhood_full column and store as a new column, borough\n",
    "airbnb_merged[\"borough\"] = airbnb_merged[\"nbhood_full\"].str.partition(\",\")[0]\n",
    "\n",
    "# Group by borough and calculate summary statistics\n",
    "boroughs = airbnb_merged.groupby(\"borough\")[\"price\"].agg([\"sum\", \"mean\", \"median\", \"count\"])\n",
    "\n",
    "# Round boroughs to 2 decimal places, and sort by mean in descending order\n",
    "boroughs = boroughs.round(2).sort_values(\"mean\", ascending=False)\n",
    "\n",
    "# Print boroughs\n",
    "print(boroughs)"
   ]
  },
  {
   "cell_type": "code",
   "execution_count": 30,
   "id": "b155aa97",
   "metadata": {},
   "outputs": [
    {
     "name": "stdout",
     "output_type": "stream",
     "text": [
      "borough        price_range\n",
      "Bronx          Budget          381\n",
      "               Average         285\n",
      "               Expensive        25\n",
      "               Extravagant       5\n",
      "Brooklyn       Budget         3194\n",
      "               Average        5532\n",
      "               Expensive      1466\n",
      "               Extravagant     259\n",
      "Manhattan      Budget         1148\n",
      "               Average        5285\n",
      "               Expensive      3072\n",
      "               Extravagant     810\n",
      "Queens         Budget         1631\n",
      "               Average        1505\n",
      "               Expensive       291\n",
      "               Extravagant      28\n",
      "Staten Island  Budget          124\n",
      "               Average         123\n",
      "               Expensive        20\n",
      "               Extravagant       0\n",
      "Name: price_range, dtype: int64\n"
     ]
    }
   ],
   "source": [
    "#Price range by borough\n",
    "\n",
    "# Create labels for the price range, label_names\n",
    "label_names = [\"Budget\", \"Average\", \"Expensive\", \"Extravagant\"]\n",
    "\n",
    "# Create the label ranges, ranges\n",
    "ranges = [0, 69, 175, 350, np.inf]\n",
    "\n",
    "# Insert new column, price_range, into DataFrame\n",
    "airbnb_merged[\"price_range\"] = pd.cut(airbnb_merged[\"price\"], bins=ranges, labels=label_names)\n",
    "\n",
    "# Calculate occurence frequencies for each label, prices_by_borough\n",
    "prices_by_borough = airbnb_merged.groupby([\"borough\", \"price_range\"])[\"price_range\"].count()\n",
    "print(prices_by_borough)"
   ]
  },
  {
   "cell_type": "code",
   "execution_count": null,
   "id": "883b8988",
   "metadata": {},
   "outputs": [],
   "source": []
  }
 ],
 "metadata": {
  "kernelspec": {
   "display_name": "Python 3 (ipykernel)",
   "language": "python",
   "name": "python3"
  },
  "language_info": {
   "codemirror_mode": {
    "name": "ipython",
    "version": 3
   },
   "file_extension": ".py",
   "mimetype": "text/x-python",
   "name": "python",
   "nbconvert_exporter": "python",
   "pygments_lexer": "ipython3",
   "version": "3.9.13"
  }
 },
 "nbformat": 4,
 "nbformat_minor": 5
}
